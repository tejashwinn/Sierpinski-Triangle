{
 "cells": [
  {
   "cell_type": "code",
   "execution_count": 71,
   "metadata": {},
   "outputs": [],
   "source": [
    "import pandas as pd\n",
    "import numpy as np\n",
    "import matplotlib.pyplot as mt"
   ]
  },
  {
   "cell_type": "code",
   "execution_count": 72,
   "metadata": {},
   "outputs": [],
   "source": [
    "triX=[0,500,1000]\n",
    "triY=[0,500,0]\n",
    "\n",
    "triangle=np.array([[0,0],[500,500],[1000,0]])\n",
    "triangles=[triangle]"
   ]
  },
  {
   "cell_type": "code",
   "execution_count": 73,
   "metadata": {},
   "outputs": [],
   "source": [
    "def returnOneArray(X,Y):\n",
    "    arr=[]\n",
    "    for i in range(len(X)):\n",
    "        arr.append([X[i],Y[i]])\n",
    "    print(arr)\n",
    "    return arr"
   ]
  },
  {
   "cell_type": "code",
   "execution_count": 74,
   "metadata": {},
   "outputs": [
    {
     "name": "stdout",
     "output_type": "stream",
     "text": [
      "[[0, 0], [500, 500], [1000, 0]]\n"
     ]
    },
    {
     "data": {
      "image/png": "[encoded data removed]",
      "text/plain": [
       "<Figure size 432x288 with 1 Axes>"
      ]
     },
     "metadata": {
      "needs_background": "light"
     },
     "output_type": "display_data"
    }
   ],
   "source": [
    "def printTriangle(X,Y,c='red'):\n",
    "    mt.figure()\n",
    "    mt.scatter(X,Y)\n",
    "    t1=mt.Polygon(returnOneArray(X,Y),color=c)\n",
    "    mt.gca().add_patch(t1)\n",
    "\n",
    "printTriangle(triangle[:3,0],triangle[:3,1])"
   ]
  },
  {
   "cell_type": "code",
   "execution_count": 75,
   "metadata": {},
   "outputs": [],
   "source": [
    "def findHalf(point1,point2):\n",
    "    return [(point1[0]+point2[0])//2,(point1[1]+point2[1])//2]\n"
   ]
  },
  {
   "cell_type": "code",
   "execution_count": 78,
   "metadata": {},
   "outputs": [
    {
     "name": "stdout",
     "output_type": "stream",
     "text": [
      "<class 'list'>\n",
      "[array([[   0,    0],\n",
      "       [ 500,  500],\n",
      "       [1000,    0]])]\n",
      "[[250, 250], [500, 0], [750, 250]]\n"
     ]
    }
   ],
   "source": [
    "newtriangle=triangles[:].copy()\n",
    "print(type(newtriangle))\n",
    "print(newtriangle)\n",
    "for i in newtriangle:\n",
    "    a=[]\n",
    "    a.append(findHalf(i[0],i[1]))\n",
    "    a.append(findHalf(i[0],i[2]))\n",
    "    a.append(findHalf(i[2],i[1]))\n",
    "    print(a)\n",
    "    newtriangle.append(a)\n",
    "    print(newtriangle)   \n"
   ]
  }
 ],
 "metadata": {
  "interpreter": {
   "hash": "b3ba2566441a7c06988d0923437866b63cedc61552a5af99d1f4fb67d367b25f"
  },
  "kernelspec": {
   "display_name": "Python 3.8.8 ('base')",
   "language": "python",
   "name": "python3"
  },
  "language_info": {
   "codemirror_mode": {
    "name": "ipython",
    "version": 3
   },
   "file_extension": ".py",
   "mimetype": "text/x-python",
   "name": "python",
   "nbconvert_exporter": "python",
   "pygments_lexer": "ipython3",
   "version": "3.8.8"
  },
  "orig_nbformat": 4
 },
 "nbformat": 4,
 "nbformat_minor": 2
}
