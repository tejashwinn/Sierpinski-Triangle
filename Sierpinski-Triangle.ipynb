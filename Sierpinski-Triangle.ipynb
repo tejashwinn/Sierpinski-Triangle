{
  "cells": [
    {
      "cell_type": "code",
      "execution_count": null,
      "metadata": {
        "id": "xICBQrRPkxJR"
      },
      "outputs": [],
      "source": [
        "import numpy as np\n",
        "import matplotlib.pyplot as mt"
      ]
    },
    {
      "cell_type": "code",
      "execution_count": null,
      "metadata": {},
      "outputs": [],
      "source": [
        "#values for triangle cordinates a,b,c\n",
        "MAIN_TRIANGLE=[[0,0],[500,500],[1000,0]]\n",
        "\n",
        "#No of cycles\n",
        "ROTATIONS=99999\n",
        "\n",
        "#Canvas Size\n",
        "CANVAS_SIZE=144"
      ]
    },
    {
      "cell_type": "code",
      "execution_count": null,
      "metadata": {
        "colab": {
          "base_uri": "https://localhost:8080/"
        },
        "id": "2ZKw_5Iom3m8",
        "outputId": "ab7b7a41-1fc4-479a-d3a0-2d44d2e33c52"
      },
      "outputs": [],
      "source": [
        "#triangle co-ordinates\n",
        "triangle=np.array(MAIN_TRIANGLE)\n",
        "triangles=[triangle]\n",
        "triangles"
      ]
    },
    {
      "cell_type": "code",
      "execution_count": null,
      "metadata": {
        "id": "flHuIg60nK2W"
      },
      "outputs": [],
      "source": [
        "def findHalf(point1,point2):\n",
        "    return [(point1[0]+point2[0])//2,(point1[1]+point2[1])//2]\n",
        "\n",
        "def findInnerTriagnle(triangle):\n",
        "  inner=[]\n",
        "  inner.append(findHalf(triangle[0],triangle[1]))\n",
        "  inner.append(findHalf(triangle[2],triangle[1]))\n",
        "  inner.append(findHalf(triangle[0],triangle[2]))\n",
        "  return inner.copy()"
      ]
    },
    {
      "cell_type": "code",
      "execution_count": null,
      "metadata": {
        "id": "1m9-jX5Pnsi2"
      },
      "outputs": [],
      "source": [
        "def findFourTriangle(t1,t2):\n",
        "  one=np.array([t1[0].copy(),t2[0].copy(),t2[2].copy()])\n",
        "  two=np.array([t2[0].copy(),t1[1].copy(),t2[1].copy()])\n",
        "  three=np.array([t2[2].copy(),t2[1].copy(),t1[2].copy()])\n",
        "  return (one,two,three)"
      ]
    },
    {
      "cell_type": "code",
      "execution_count": null,
      "metadata": {
        "id": "51xohxo2nbPd"
      },
      "outputs": [],
      "source": [
        "triangles_copy=triangles[:].copy()\n",
        "\n",
        "count=0\n",
        "for i in triangles_copy:\n",
        "    if count>ROTATIONS:\n",
        "        break\n",
        "    count+=1\n",
        "    inner_triangle=findInnerTriagnle(i)\n",
        "    o,t,r=findFourTriangle(i,inner_triangle)\n",
        "    triangles_copy.append(o)\n",
        "    triangles_copy.append(t)\n",
        "    triangles_copy.append(r)\n"
      ]
    },
    {
      "cell_type": "code",
      "execution_count": null,
      "metadata": {
        "colab": {
          "base_uri": "https://localhost:8080/"
        },
        "id": "ZRBHkL4uo2qm",
        "outputId": "4411a04c-3973-4cd8-bd0d-31413b1e0991"
      },
      "outputs": [],
      "source": [
        "#making the new trainalge into np array\n",
        "print(len(triangles_copy))\n",
        "c=0\n",
        "triangles=np.array(triangles_copy)"
      ]
    },
    {
      "cell_type": "code",
      "execution_count": null,
      "metadata": {
        "id": "cTc2l2Q7p5Iv"
      },
      "outputs": [],
      "source": [
        "x=[]\n",
        "y=[]\n",
        "#taking the x cordinates and y cordinates and marking them\n",
        "for i in triangles:\n",
        "    x.append(i[:,0])\n",
        "    y.append(i[:,1])"
      ]
    },
    {
      "cell_type": "code",
      "execution_count": null,
      "metadata": {
        "id": "faxCINUKnA_5"
      },
      "outputs": [],
      "source": [
        "def printTriangle(X,Y,c='red'):\n",
        "    #canvas size CANVAS_SIZE=144\n",
        "    \n",
        "    mt.figure(figsize=(CANVAS_SIZE,CANVAS_SIZE//2),dpi=CANVAS_SIZE)\n",
        "    \n",
        "    #marker size 0.01\n",
        "    mt.plot(X, Y, marker=\".\", markersize=0.01,linestyle=\"None\",color=\"b\")\n",
        "    mt.savefig('triangle.png')"
      ]
    },
    {
      "cell_type": "code",
      "execution_count": null,
      "metadata": {
        "colab": {
          "base_uri": "https://localhost:8080/",
          "height": 902
        },
        "id": "JdoEcSHDJdGL",
        "outputId": "c944b20b-f523-4c50-cfd4-1e7605bea82f"
      },
      "outputs": [],
      "source": [
        "printTriangle(x,y)"
      ]
    }
  ],
  "metadata": {
    "colab": {
      "collapsed_sections": [],
      "name": "st_copy.ipynb",
      "provenance": []
    },
    "kernelspec": {
      "display_name": "Python 3.10.5 64-bit (windows store)",
      "language": "python",
      "name": "python3"
    },
    "language_info": {
      "codemirror_mode": {
        "name": "ipython",
        "version": 3
      },
      "file_extension": ".py",
      "mimetype": "text/x-python",
      "name": "python",
      "nbconvert_exporter": "python",
      "pygments_lexer": "ipython3",
      "version": "3.10.5"
    },
    "vscode": {
      "interpreter": {
        "hash": "4c8e4a203b0a026c9b8a0a57df93aad308e68f78f6e05670efcfe4a07a7fdb19"
      }
    }
  },
  "nbformat": 4,
  "nbformat_minor": 0
}
